{
 "cells": [
  {
   "cell_type": "markdown",
   "source": [
    "# Evaluate the model taking image input from MS-Paint"
   ],
   "metadata": {}
  },
  {
   "cell_type": "markdown",
   "source": [
    "### e.g. IMAGE NAME: something.png "
   ],
   "metadata": {}
  },
  {
   "cell_type": "code",
   "execution_count": null,
   "source": [
    "# Importing some needed modules\r\n",
    "import tensorflow as tf \r\n",
    "from tensorflow.keras.models import load_model\r\n",
    "import matplotlib.pyplot as plt"
   ],
   "outputs": [],
   "metadata": {}
  },
  {
   "cell_type": "code",
   "execution_count": null,
   "source": [
    "# Loading our trained \"HAMARA_PYARA_MODEL\"\r\n",
    "model = tf.keras.models.load_model('HAMARA_PYARA_MODEL.keras')"
   ],
   "outputs": [],
   "metadata": {}
  },
  {
   "cell_type": "code",
   "execution_count": null,
   "source": [
    "# In case you want to change the input image, It's ADVISABLE to change input image name from both testModel.py and this cell.\r\n",
    "\r\n",
    "# Importing needed modules\r\n",
    "import cv2 \r\n",
    "import tensorflow as tf \r\n",
    "import numpy as np\r\n",
    "\r\n",
    "# Reading image\r\n",
    "myImage = cv2.imread('something.png')                       # CHANGE IMAGE NAME HERE\r\n",
    "# Converting image into gray from RGB\r\n",
    "convertedImage = cv2.cvtColor(myImage, cv2.COLOR_BGR2GRAY)\r\n",
    "\r\n",
    "# Preparing it for kernel operation\r\n",
    "# Resizing and adjusting pixels of the image\r\n",
    "resizedImage = cv2.resize(convertedImage, (28,28), interpolation = cv2.INTER_AREA)\r\n",
    "# Scaling from 0 to 1\r\n",
    "newImage = tf.keras.utils.normalize(resizedImage, axis = 1)\r\n",
    "\r\n",
    "# Kernal operation of CNN layer \r\n",
    "IMG_SIZE = 28\r\n",
    "newImage = np.array(newImage).reshape(-1, IMG_SIZE, IMG_SIZE, 1)   "
   ],
   "outputs": [],
   "metadata": {}
  },
  {
   "cell_type": "code",
   "execution_count": null,
   "source": [
    "# Getting to know how the input image looks like(Not from any of test sets)\r\n",
    "plt.imshow(myImage)"
   ],
   "outputs": [
    {
     "output_type": "execute_result",
     "data": {
      "text/plain": [
       "<matplotlib.image.AxesImage at 0x1d45dbc4940>"
      ]
     },
     "metadata": {},
     "execution_count": 56
    },
    {
     "output_type": "display_data",
     "data": {
      "text/plain": [
       "<Figure size 432x288 with 1 Axes>"
      ],
      "image/png": "[encoded data removed]"
     },
     "metadata": {
      "needs_background": "light"
     }
    }
   ],
   "metadata": {}
  },
  {
   "cell_type": "code",
   "execution_count": null,
   "source": [
    "# Predicting from image input outside MNIST test sets\r\n",
    "prediction = model.predict(newImage)\r\n",
    "predictImage = np.argmax(prediction)\r\n",
    "print(predictImage)"
   ],
   "outputs": [
    {
     "output_type": "stream",
     "name": "stdout",
     "text": [
      "7\n"
     ]
    }
   ],
   "metadata": {}
  },
  {
   "cell_type": "markdown",
   "source": [
    "THANK YOU FOR BEARING OVER-EXPLANATORY ME :)"
   ],
   "metadata": {}
  }
 ],
 "metadata": {
  "interpreter": {
   "hash": "393b74d2ed03d6566f50a4a4b0f94805646cd5a761c1fd6db9154c1450f37d61"
  },
  "kernelspec": {
   "name": "python3",
   "display_name": "Python 3.9.6 64-bit"
  },
  "language_info": {
   "name": "python",
   "version": "3.9.6",
   "mimetype": "text/x-python",
   "codemirror_mode": {
    "name": "ipython",
    "version": 3
   },
   "pygments_lexer": "ipython3",
   "nbconvert_exporter": "python",
   "file_extension": ".py"
  }
 },
 "nbformat": 4,
 "nbformat_minor": 2
}