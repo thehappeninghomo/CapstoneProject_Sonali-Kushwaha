{
 "cells": [
  {
   "cell_type": "markdown",
   "source": [
    "# Import the libraries and load the MNIST dataset"
   ],
   "metadata": {}
  },
  {
   "cell_type": "markdown",
   "source": [
    "### Traning samples: 60000       |              Testing samples: 10000 "
   ],
   "metadata": {}
  },
  {
   "cell_type": "code",
   "execution_count": 1,
   "source": [
    "# Importing the necessary modules\r\n",
    "import numpy as np\r\n",
    "import pandas as pd\r\n",
    "import tensorflow as tf \r\n",
    "from tensorflow.keras.layers import Flatten, Dense, Conv2D \r\n",
    "from tensorflow.keras.layers import MaxPooling2D, Dropout \r\n",
    "from tensorflow.keras import Sequential\r\n",
    "from tensorflow.keras.datasets import mnist\r\n",
    "import matplotlib.pyplot as plt"
   ],
   "outputs": [],
   "metadata": {}
  },
  {
   "cell_type": "code",
   "execution_count": 2,
   "source": [
    "# Importing the MNIST dataset from keras library\r\n",
    "data = tf.keras.datasets.mnist"
   ],
   "outputs": [],
   "metadata": {}
  },
  {
   "cell_type": "code",
   "execution_count": 3,
   "source": [
    "# Splitting the MNIST dataset into training and testing sets\r\n",
    "(x_train, y_train), (x_test, y_test) = data.load_data()"
   ],
   "outputs": [],
   "metadata": {}
  },
  {
   "cell_type": "markdown",
   "source": [
    "# Preprocess the data"
   ],
   "metadata": {}
  },
  {
   "cell_type": "code",
   "execution_count": 4,
   "source": [
    "# Checking the values of each pixel of any random index before normalising the training set\r\n",
    "print(x_train[128])"
   ],
   "outputs": [
    {
     "output_type": "stream",
     "name": "stdout",
     "text": [
      "[[  0   0   0   0   0   0   0   0   0   0   0   0   0   0   0   0   0   0\n",
      "    0   0   0   0   0   0   0   0   0   0]\n",
      " [  0   0   0   0   0   0   0   0   0   0   0   0   0   0   0   0   0   0\n",
      "    0   0   0   0   0   0   0   0   0   0]\n",
      " [  0   0   0   0   0   0   0   0   0   0   0   0   0   0   0   0   0   0\n",
      "    0   0   0   0   0   0   0   0   0   0]\n",
      " [  0   0   0   0   0   0   0   0   0   0   0   0   0   0   0   0   0   0\n",
      "    0   0   0   0   0   0   0   0   0   0]\n",
      " [  0   0   0   0   0   0   0   0   0   0   0   0   0   0  73 253 253  63\n",
      "    0   0   0   0   0   0   0   0   0   0]\n",
      " [  0   0   0   0   0   0   0   0   0   0   0   0   0   0 115 252 252 144\n",
      "    0   0   0   0   0   0   0   0   0   0]\n",
      " [  0   0   0   0   0   0   0   0   0   0   0   0   0   0 217 252 252 144\n",
      "    0   0   0   0   0   0   0   0   0   0]\n",
      " [  0   0   0   0   0   0   0   0   0   0   0   0   0  63 237 252 252 144\n",
      "    0   0   0   0   0   0   0   0   0   0]\n",
      " [  0   0   0   0   0   0   0   0   0   0   0   0   0 109 252 252 252   0\n",
      "    0   0   0   0   0   0   0   0   0   0]\n",
      " [  0   0   0   0   0   0   0   0   0   0   0   0   0 109 252 252 252   0\n",
      "    0   0   0   0   0   0   0   0   0   0]\n",
      " [  0   0   0   0   0   0   0   0   0   0   0   0   0 109 252 252 252   0\n",
      "    0   0   0   0   0   0   0   0   0   0]\n",
      " [  0   0   0   0   0   0   0   0   0   0   0   0   0 191 252 252 252   0\n",
      "    0   0   0   0   0   0   0   0   0   0]\n",
      " [  0   0   0   0   0   0   0   0   0   0   0   0 145 255 253 253 253   0\n",
      "    0   0   0   0   0   0   0   0   0   0]\n",
      " [  0   0   0   0   0   0   0   0   0   0   0  32 237 253 252 252 210   0\n",
      "    0   0   0   0   0   0   0   0   0   0]\n",
      " [  0   0   0   0   0   0   0   0   0   0   0  37 252 253 252 252 108   0\n",
      "    0   0   0   0   0   0   0   0   0   0]\n",
      " [  0   0   0   0   0   0   0   0   0   0   0  37 252 253 252 252 108   0\n",
      "    0   0   0   0   0   0   0   0   0   0]\n",
      " [  0   0   0   0   0   0   0   0   0   0   0  21 207 255 253 253 108   0\n",
      "    0   0   0   0   0   0   0   0   0   0]\n",
      " [  0   0   0   0   0   0   0   0   0   0   0   0 144 253 252 252 108   0\n",
      "    0   0   0   0   0   0   0   0   0   0]\n",
      " [  0   0   0   0   0   0   0   0   0   0   0  27 221 253 252 252 108   0\n",
      "    0   0   0   0   0   0   0   0   0   0]\n",
      " [  0   0   0   0   0   0   0   0   0   0   0  16 190 253 252 252 108   0\n",
      "    0   0   0   0   0   0   0   0   0   0]\n",
      " [  0   0   0   0   0   0   0   0   0   0   0   0 145 255 253 253 253   0\n",
      "    0   0   0   0   0   0   0   0   0   0]\n",
      " [  0   0   0   0   0   0   0   0   0   0   0   0 144 253 252 252 210   0\n",
      "    0   0   0   0   0   0   0   0   0   0]\n",
      " [  0   0   0   0   0   0   0   0   0   0   0   0 144 253 252 252 108   0\n",
      "    0   0   0   0   0   0   0   0   0   0]\n",
      " [  0   0   0   0   0   0   0   0   0   0   0   0  62 253 252 252 108   0\n",
      "    0   0   0   0   0   0   0   0   0   0]\n",
      " [  0   0   0   0   0   0   0   0   0   0   0   0   0   0   0   0   0   0\n",
      "    0   0   0   0   0   0   0   0   0   0]\n",
      " [  0   0   0   0   0   0   0   0   0   0   0   0   0   0   0   0   0   0\n",
      "    0   0   0   0   0   0   0   0   0   0]\n",
      " [  0   0   0   0   0   0   0   0   0   0   0   0   0   0   0   0   0   0\n",
      "    0   0   0   0   0   0   0   0   0   0]\n",
      " [  0   0   0   0   0   0   0   0   0   0   0   0   0   0   0   0   0   0\n",
      "    0   0   0   0   0   0   0   0   0   0]]\n"
     ]
    }
   ],
   "metadata": {}
  },
  {
   "cell_type": "code",
   "execution_count": 5,
   "source": [
    "# Checking maximum value of the channel to know if images are in gray level\r\n",
    "x_train.max()"
   ],
   "outputs": [
    {
     "output_type": "execute_result",
     "data": {
      "text/plain": [
       "255"
      ]
     },
     "metadata": {},
     "execution_count": 5
    }
   ],
   "metadata": {}
  },
  {
   "cell_type": "code",
   "execution_count": 6,
   "source": [
    "# Normalizing \r\n",
    "x_train = tf.keras.utils.normalize(x_train, axis = 1)\r\n",
    "x_test = tf.keras.utils.normalize(x_test, axis = 1)"
   ],
   "outputs": [],
   "metadata": {}
  },
  {
   "cell_type": "code",
   "execution_count": 7,
   "source": [
    "# Checking the values of each pixel after normalizing the sets\r\n",
    "print(x_test[128])"
   ],
   "outputs": [
    {
     "output_type": "stream",
     "name": "stdout",
     "text": [
      "[[0.         0.         0.         0.         0.         0.\n",
      "  0.         0.         0.         0.         0.         0.\n",
      "  0.         0.         0.         0.         0.         0.\n",
      "  0.         0.         0.         0.         0.         0.\n",
      "  0.         0.         0.         0.        ]\n",
      " [0.         0.         0.         0.         0.         0.\n",
      "  0.         0.         0.         0.         0.         0.\n",
      "  0.         0.         0.         0.         0.         0.\n",
      "  0.         0.         0.         0.         0.         0.\n",
      "  0.         0.         0.         0.        ]\n",
      " [0.         0.         0.         0.         0.         0.\n",
      "  0.         0.         0.         0.         0.         0.\n",
      "  0.         0.         0.         0.         0.         0.\n",
      "  0.         0.         0.         0.         0.         0.\n",
      "  0.         0.         0.         0.        ]\n",
      " [0.         0.         0.         0.         0.         0.\n",
      "  0.         0.         0.         0.         0.         0.\n",
      "  0.         0.         0.         0.         0.         0.\n",
      "  0.         0.         0.         0.         0.         0.\n",
      "  0.         0.         0.         0.        ]\n",
      " [0.         0.         0.         0.         0.         0.\n",
      "  0.         0.         0.         0.         0.         0.\n",
      "  0.         0.         0.         0.         0.         0.\n",
      "  0.         0.         0.         0.         0.         0.\n",
      "  0.         0.         0.         0.        ]\n",
      " [0.         0.         0.         0.         0.         0.\n",
      "  0.         0.         0.         0.         0.         0.\n",
      "  0.         0.         0.         0.         0.         0.\n",
      "  0.         0.         0.         0.         0.         0.\n",
      "  0.         0.         0.         0.        ]\n",
      " [0.         0.         0.         0.         0.         0.\n",
      "  0.         0.         0.         0.0334356  0.13178944 0.12538645\n",
      "  0.13720214 0.23752672 0.320807   0.29975335 0.27031627 0.26712058\n",
      "  0.30992802 0.46001141 0.52173312 0.40191448 0.         0.\n",
      "  0.         0.         0.         0.        ]\n",
      " [0.         0.         0.         0.         0.         0.\n",
      "  0.         0.3068664  0.42994117 0.31120827 0.27447056 0.26113541\n",
      "  0.28574331 0.31503544 0.31829087 0.29856856 0.26924783 0.26606477\n",
      "  0.30870301 0.45819318 0.56671011 0.84950107 0.         0.\n",
      "  0.         0.         0.         0.        ]\n",
      " [0.         0.         0.         0.         0.         0.\n",
      "  0.79887077 0.57653687 0.45143823 0.32406811 0.27447056 0.26113541\n",
      "  0.28574331 0.31503544 0.2000326  0.18719775 0.20620964 0.26606477\n",
      "  0.30870301 0.45819318 0.48575153 0.0913442  0.         0.\n",
      "  0.         0.         0.         0.        ]\n",
      " [0.         0.         0.         0.         0.         0.\n",
      "  0.6015027  0.55793891 0.45143823 0.32406811 0.19169372 0.04041381\n",
      "  0.04422218 0.04875549 0.         0.         0.01602666 0.11297195\n",
      "  0.30870301 0.45819318 0.40929064 0.2740326  0.         0.\n",
      "  0.         0.         0.         0.        ]\n",
      " [0.         0.         0.         0.         0.         0.\n",
      "  0.         0.49517078 0.45143823 0.32406811 0.21238793 0.02590629\n",
      "  0.         0.         0.         0.         0.11752881 0.22805552\n",
      "  0.30870301 0.31637148 0.05622124 0.1826884  0.         0.\n",
      "  0.         0.         0.         0.        ]\n",
      " [0.         0.         0.         0.         0.         0.\n",
      "  0.         0.13018574 0.38157279 0.32406811 0.27447056 0.20310532\n",
      "  0.057829   0.         0.03270973 0.21326326 0.26176872 0.26606477\n",
      "  0.29155284 0.0945478  0.         0.         0.         0.\n",
      "  0.         0.         0.         0.        ]\n",
      " [0.         0.         0.         0.         0.         0.\n",
      "  0.         0.         0.19526495 0.32406811 0.27447056 0.26113541\n",
      "  0.2812077  0.21627433 0.26545207 0.29856856 0.26924783 0.25233921\n",
      "  0.10535103 0.         0.         0.         0.         0.\n",
      "  0.         0.         0.         0.        ]\n",
      " [0.         0.         0.         0.         0.         0.\n",
      "  0.         0.         0.04478554 0.25205298 0.27447056 0.26113541\n",
      "  0.28574331 0.31503544 0.31829087 0.29856856 0.25856339 0.16153933\n",
      "  0.         0.         0.         0.         0.         0.\n",
      "  0.         0.         0.         0.        ]\n",
      " [0.         0.         0.         0.         0.         0.\n",
      "  0.         0.         0.         0.02957765 0.13832445 0.25595415\n",
      "  0.28574331 0.31503544 0.31829087 0.29856856 0.17415633 0.00316744\n",
      "  0.         0.         0.         0.         0.         0.\n",
      "  0.         0.         0.         0.        ]\n",
      " [0.         0.         0.         0.         0.         0.\n",
      "  0.         0.         0.         0.         0.         0.09326265\n",
      "  0.28574331 0.31503544 0.31829087 0.29856856 0.26924783 0.11613938\n",
      "  0.         0.         0.         0.         0.         0.\n",
      "  0.         0.         0.         0.        ]\n",
      " [0.         0.         0.         0.         0.         0.\n",
      "  0.         0.         0.         0.         0.02178338 0.21139533\n",
      "  0.28687721 0.31628558 0.320807   0.29975335 0.27031627 0.18265558\n",
      "  0.         0.         0.         0.         0.         0.\n",
      "  0.         0.         0.         0.        ]\n",
      " [0.         0.         0.         0.         0.         0.\n",
      "  0.         0.         0.         0.         0.10564938 0.26113541\n",
      "  0.28574331 0.24377743 0.18367773 0.29264458 0.26924783 0.21749739\n",
      "  0.02817527 0.         0.         0.         0.         0.\n",
      "  0.         0.         0.         0.        ]\n",
      " [0.         0.         0.         0.         0.         0.\n",
      "  0.         0.         0.         0.06301324 0.26575721 0.26113541\n",
      "  0.27213648 0.01500169 0.         0.09596847 0.25856339 0.26606477\n",
      "  0.12495122 0.         0.         0.         0.         0.\n",
      "  0.         0.         0.         0.        ]\n",
      " [0.         0.         0.         0.         0.         0.\n",
      "  0.         0.         0.         0.21347344 0.27447056 0.26113541\n",
      "  0.14287165 0.         0.         0.         0.24146829 0.26606477\n",
      "  0.29645289 0.10182071 0.         0.         0.         0.\n",
      "  0.         0.         0.         0.        ]\n",
      " [0.         0.         0.         0.         0.         0.\n",
      "  0.         0.         0.09494534 0.30606433 0.27447056 0.26113541\n",
      "  0.12019361 0.         0.         0.         0.13035014 0.26606477\n",
      "  0.30870301 0.12000298 0.         0.         0.         0.\n",
      "  0.         0.         0.         0.        ]\n",
      " [0.         0.         0.         0.         0.         0.\n",
      "  0.         0.         0.09494534 0.30606433 0.27447056 0.26113541\n",
      "  0.12019361 0.         0.         0.         0.10043371 0.26606477\n",
      "  0.30870301 0.12000298 0.         0.         0.         0.\n",
      "  0.         0.         0.         0.        ]\n",
      " [0.         0.         0.         0.         0.         0.\n",
      "  0.         0.         0.         0.23919313 0.27447056 0.26113541\n",
      "  0.14400555 0.         0.         0.04620704 0.20193587 0.26606477\n",
      "  0.29522788 0.10182071 0.         0.         0.         0.\n",
      "  0.         0.         0.         0.        ]\n",
      " [0.         0.         0.         0.         0.         0.\n",
      "  0.         0.         0.         0.13245641 0.27447056 0.26113541\n",
      "  0.2800738  0.2000225  0.20254873 0.29264458 0.26924783 0.26606477\n",
      "  0.20947704 0.         0.         0.         0.         0.\n",
      "  0.         0.         0.         0.        ]\n",
      " [0.         0.         0.         0.         0.         0.\n",
      "  0.         0.         0.         0.02957765 0.21456627 0.25595415\n",
      "  0.28574331 0.31503544 0.31829087 0.29856856 0.26390561 0.20693927\n",
      "  0.02695026 0.         0.         0.         0.         0.\n",
      "  0.         0.         0.         0.        ]\n",
      " [0.         0.         0.         0.         0.         0.\n",
      "  0.         0.         0.         0.         0.         0.07875512\n",
      "  0.14287165 0.31503544 0.31829087 0.14928428 0.08013328 0.\n",
      "  0.         0.         0.         0.         0.         0.\n",
      "  0.         0.         0.         0.        ]\n",
      " [0.         0.         0.         0.         0.         0.\n",
      "  0.         0.         0.         0.         0.         0.\n",
      "  0.         0.         0.         0.         0.         0.\n",
      "  0.         0.         0.         0.         0.         0.\n",
      "  0.         0.         0.         0.        ]\n",
      " [0.         0.         0.         0.         0.         0.\n",
      "  0.         0.         0.         0.         0.         0.\n",
      "  0.         0.         0.         0.         0.         0.\n",
      "  0.         0.         0.         0.         0.         0.\n",
      "  0.         0.         0.         0.        ]]\n"
     ]
    }
   ],
   "metadata": {}
  },
  {
   "cell_type": "code",
   "execution_count": 8,
   "source": [
    "# Checking the shape of the data sets\r\n",
    "print(x_train.shape)\r\n",
    "print(x_test.shape)"
   ],
   "outputs": [
    {
     "output_type": "stream",
     "name": "stdout",
     "text": [
      "(60000, 28, 28)\n",
      "(10000, 28, 28)\n"
     ]
    }
   ],
   "metadata": {}
  },
  {
   "cell_type": "code",
   "execution_count": 9,
   "source": [
    "# In order to make images 4D, we need to reshape them\r\n",
    "# Reshaping image in order to suit it for convolution operation\r\n",
    "input_shape = [28, 28, 1]\r\n",
    "x_train = x_train.reshape(len(x_train), input_shape[0], input_shape[1], input_shape[2])\r\n",
    "x_test = x_test.reshape(len(x_test), input_shape[0], input_shape[1], input_shape[2])"
   ],
   "outputs": [],
   "metadata": {}
  },
  {
   "cell_type": "code",
   "execution_count": 10,
   "source": [
    "# Checking the shape of the data sets after reshaping\r\n",
    "print(x_train.shape)\r\n",
    "print(x_test.shape)"
   ],
   "outputs": [
    {
     "output_type": "stream",
     "name": "stdout",
     "text": [
      "(60000, 28, 28, 1)\n",
      "(10000, 28, 28, 1)\n"
     ]
    }
   ],
   "metadata": {}
  },
  {
   "cell_type": "markdown",
   "source": [
    "# Create the model"
   ],
   "metadata": {}
  },
  {
   "cell_type": "code",
   "execution_count": 11,
   "source": [
    "# Creating a neural network\r\n",
    "model = Sequential()\r\n",
    "\r\n",
    "# First CNN layer\r\n",
    "model.add(Conv2D(filters=64, kernel_size=(3,3), padding='same', activation='relu', input_shape=[28, 28, 1]))\r\n",
    "model.add(MaxPooling2D(pool_size=(2,2), strides=2, padding='valid'))\r\n",
    "\r\n",
    "# Second CNN layer\r\n",
    "model.add(Conv2D(64, (3,3), activation='relu'))\r\n",
    "model.add(MaxPooling2D(pool_size=(2,2)))\r\n",
    "\r\n",
    "# Third CNN layer\r\n",
    "model.add(Conv2D(64, (3,3), activation='relu'))\r\n",
    "model.add(MaxPooling2D(pool_size=(2,2)))\r\n",
    "\r\n",
    "# Fully connected layers \r\n",
    "model.add(Flatten())\r\n",
    "model.add(Dropout(0.5)) #Regularizing\r\n",
    "model.add(tf.keras.layers.Dense(64, activation='relu'))\r\n",
    "model.add(tf.keras.layers.Dense(128,activation='relu'))\r\n",
    "model.add(tf.keras.layers.Dense(10,activation='softmax'))\r\n",
    "\r\n",
    "# Summarizing the performance of the model\r\n",
    "model.summary()"
   ],
   "outputs": [
    {
     "output_type": "stream",
     "name": "stdout",
     "text": [
      "Model: \"sequential\"\n",
      "_________________________________________________________________\n",
      "Layer (type)                 Output Shape              Param #   \n",
      "=================================================================\n",
      "conv2d (Conv2D)              (None, 28, 28, 64)        640       \n",
      "_________________________________________________________________\n",
      "max_pooling2d (MaxPooling2D) (None, 14, 14, 64)        0         \n",
      "_________________________________________________________________\n",
      "conv2d_1 (Conv2D)            (None, 12, 12, 64)        36928     \n",
      "_________________________________________________________________\n",
      "max_pooling2d_1 (MaxPooling2 (None, 6, 6, 64)          0         \n",
      "_________________________________________________________________\n",
      "conv2d_2 (Conv2D)            (None, 4, 4, 64)          36928     \n",
      "_________________________________________________________________\n",
      "max_pooling2d_2 (MaxPooling2 (None, 2, 2, 64)          0         \n",
      "_________________________________________________________________\n",
      "flatten (Flatten)            (None, 256)               0         \n",
      "_________________________________________________________________\n",
      "dropout (Dropout)            (None, 256)               0         \n",
      "_________________________________________________________________\n",
      "dense (Dense)                (None, 64)                16448     \n",
      "_________________________________________________________________\n",
      "dense_1 (Dense)              (None, 128)               8320      \n",
      "_________________________________________________________________\n",
      "dense_2 (Dense)              (None, 10)                1290      \n",
      "=================================================================\n",
      "Total params: 100,554\n",
      "Trainable params: 100,554\n",
      "Non-trainable params: 0\n",
      "_________________________________________________________________\n"
     ]
    }
   ],
   "metadata": {}
  },
  {
   "cell_type": "code",
   "execution_count": 12,
   "source": [
    "# Compiling the model\r\n",
    "model.compile(optimizer='adam', loss='sparse_categorical_crossentropy', metrics=['accuracy'])"
   ],
   "outputs": [],
   "metadata": {}
  },
  {
   "cell_type": "markdown",
   "source": [
    "# Train the model "
   ],
   "metadata": {}
  },
  {
   "cell_type": "code",
   "execution_count": 13,
   "source": [
    "# Training the model\r\n",
    "history = model.fit(x_train, y_train, batch_size=10, epochs=15, validation_data=(x_test, y_test), validation_split=0.3)"
   ],
   "outputs": [
    {
     "output_type": "stream",
     "name": "stdout",
     "text": [
      "Epoch 1/15\n",
      "4200/4200 [==============================] - 87s 20ms/step - loss: 0.3038 - accuracy: 0.9032 - val_loss: 0.0702 - val_accuracy: 0.9793\n",
      "Epoch 2/15\n",
      "4200/4200 [==============================] - 96s 23ms/step - loss: 0.1155 - accuracy: 0.9645 - val_loss: 0.0596 - val_accuracy: 0.9815\n",
      "Epoch 3/15\n",
      "4200/4200 [==============================] - 93s 22ms/step - loss: 0.0912 - accuracy: 0.9720 - val_loss: 0.0444 - val_accuracy: 0.9871\n",
      "Epoch 4/15\n",
      "4200/4200 [==============================] - 67s 16ms/step - loss: 0.0750 - accuracy: 0.9775 - val_loss: 0.0406 - val_accuracy: 0.9882\n",
      "Epoch 5/15\n",
      "4200/4200 [==============================] - 64s 15ms/step - loss: 0.0668 - accuracy: 0.9798 - val_loss: 0.0439 - val_accuracy: 0.9878\n",
      "Epoch 6/15\n",
      "4200/4200 [==============================] - 96s 23ms/step - loss: 0.0612 - accuracy: 0.9814 - val_loss: 0.0410 - val_accuracy: 0.9889\n",
      "Epoch 7/15\n",
      "4200/4200 [==============================] - 94s 22ms/step - loss: 0.0553 - accuracy: 0.9827 - val_loss: 0.0412 - val_accuracy: 0.9889\n",
      "Epoch 8/15\n",
      "4200/4200 [==============================] - 94s 22ms/step - loss: 0.0538 - accuracy: 0.9838 - val_loss: 0.0541 - val_accuracy: 0.9866\n",
      "Epoch 9/15\n",
      "4200/4200 [==============================] - 96s 23ms/step - loss: 0.0503 - accuracy: 0.9845 - val_loss: 0.0345 - val_accuracy: 0.9910\n",
      "Epoch 10/15\n",
      "4200/4200 [==============================] - 112s 27ms/step - loss: 0.0470 - accuracy: 0.9851 - val_loss: 0.0400 - val_accuracy: 0.9893\n",
      "Epoch 11/15\n",
      "4200/4200 [==============================] - 112s 27ms/step - loss: 0.0454 - accuracy: 0.9866 - val_loss: 0.0389 - val_accuracy: 0.9897\n",
      "Epoch 12/15\n",
      "4200/4200 [==============================] - 76s 18ms/step - loss: 0.0450 - accuracy: 0.9869 - val_loss: 0.0397 - val_accuracy: 0.9906\n",
      "Epoch 13/15\n",
      "4200/4200 [==============================] - 62s 15ms/step - loss: 0.0398 - accuracy: 0.9887 - val_loss: 0.0436 - val_accuracy: 0.9905\n",
      "Epoch 14/15\n",
      "4200/4200 [==============================] - 59s 14ms/step - loss: 0.0438 - accuracy: 0.9879 - val_loss: 0.0410 - val_accuracy: 0.9897\n",
      "Epoch 15/15\n",
      "4200/4200 [==============================] - 59s 14ms/step - loss: 0.0400 - accuracy: 0.9880 - val_loss: 0.0412 - val_accuracy: 0.9914\n"
     ]
    }
   ],
   "metadata": {}
  },
  {
   "cell_type": "markdown",
   "source": [
    "# Save the model"
   ],
   "metadata": {}
  },
  {
   "cell_type": "code",
   "execution_count": 14,
   "source": [
    "# Saving our trained model\r\n",
    "model.save('HAMARA_PYARA_MODEL.keras')\r\n",
    "print(\"[INFO] Model is saved successfully.\")"
   ],
   "outputs": [
    {
     "output_type": "stream",
     "name": "stdout",
     "text": [
      "[INFO] Model is saved successfully.\n"
     ]
    }
   ],
   "metadata": {}
  },
  {
   "cell_type": "markdown",
   "source": [
    "# Evaluate the model using MNIST test samples"
   ],
   "metadata": {}
  },
  {
   "cell_type": "code",
   "execution_count": 15,
   "source": [
    "# Ensuring if \"HAMARA_PAYARA_MODEL\" is worth training\r\n",
    "performance = model.evaluate(x_test, y_test, verbose=0)\r\n",
    "loss = performance[0]\r\n",
    "accuracy = performance[1]\r\n",
    "print(\"[LOSS]: \",loss)\r\n",
    "print(\"[ACCURACY]: \",accuracy)"
   ],
   "outputs": [
    {
     "output_type": "stream",
     "name": "stdout",
     "text": [
      "[LOSS]:  0.0306325051933527\n",
      "[ACCURACY]:  0.9930999875068665\n"
     ]
    }
   ],
   "metadata": {}
  },
  {
   "cell_type": "code",
   "execution_count": 16,
   "source": [
    "# Preparing to predict \"HAMARA_PAYARA_MODEL\"\r\n",
    "prediction = model.predict(x_test)"
   ],
   "outputs": [],
   "metadata": {}
  },
  {
   "cell_type": "code",
   "execution_count": 17,
   "source": [
    "# TRIAL NO. - 1\r\n",
    "# Predicting \"HAMARA_PAYARA_MODEL\" taking random index inputs\r\n",
    "predictionMax = np.argmax(prediction[127])\r\n",
    "\r\n",
    "# Printing model's O/P\r\n",
    "print(\"[O/P] HAMARA_PAYARA_MODEL says: It's a\",predictionMax)"
   ],
   "outputs": [
    {
     "output_type": "stream",
     "name": "stdout",
     "text": [
      "[O/P] HAMARA_PAYARA_MODEL says: It's a 5\n"
     ]
    }
   ],
   "metadata": {}
  },
  {
   "cell_type": "code",
   "execution_count": 18,
   "source": [
    "# Checking whether the O/P is correct or not by plotting the image at index 127\r\n",
    "plt.imshow(x_test[127])\r\n",
    "print(\"It's a 5\")"
   ],
   "outputs": [
    {
     "output_type": "stream",
     "name": "stdout",
     "text": [
      "It's a 5\n"
     ]
    },
    {
     "output_type": "display_data",
     "data": {
      "text/plain": [
       "<Figure size 432x288 with 1 Axes>"
      ],
      "image/png": "[encoded data removed]"
     },
     "metadata": {
      "needs_background": "light"
     }
    }
   ],
   "metadata": {}
  },
  {
   "cell_type": "code",
   "execution_count": 19,
   "source": [
    "# TRIAL NO. - 2\r\n",
    "# Predicting \"HAMARA_PAYARA_MODEL\" taking random index inputs\r\n",
    "predictionMax2 = np.argmax(prediction[0])\r\n",
    "\r\n",
    "# Printing model's O/P\r\n",
    "print(\"[O/P] HAMARA_PAYARA_MODEL says: It's a\",predictionMax2)"
   ],
   "outputs": [
    {
     "output_type": "stream",
     "name": "stdout",
     "text": [
      "[O/P] HAMARA_PAYARA_MODEL says: It's a 7\n"
     ]
    }
   ],
   "metadata": {}
  },
  {
   "cell_type": "code",
   "execution_count": 20,
   "source": [
    "# Checking whether the O/P is correct or not by plotting the image at index 0\r\n",
    "plt.imshow(x_test[0])\r\n",
    "print(\"It's 7(MY FAV DIGIT)\")"
   ],
   "outputs": [
    {
     "output_type": "stream",
     "name": "stdout",
     "text": [
      "It's 7(MY FAV DIGIT)\n"
     ]
    },
    {
     "output_type": "display_data",
     "data": {
      "text/plain": [
       "<Figure size 432x288 with 1 Axes>"
      ],
      "image/png": "[encoded data removed]"
     },
     "metadata": {
      "needs_background": "light"
     }
    }
   ],
   "metadata": {}
  }
 ],
 "metadata": {
  "interpreter": {
   "hash": "74b0a38879f80463ab999397bfa9db9d3cd5fd53c7393138d0c98665aeeeaeaa"
  },
  "kernelspec": {
   "name": "python3",
   "display_name": "Python 3.9.6 64-bit ('.venv': venv)"
  },
  "language_info": {
   "codemirror_mode": {
    "name": "ipython",
    "version": 3
   },
   "file_extension": ".py",
   "mimetype": "text/x-python",
   "name": "python",
   "nbconvert_exporter": "python",
   "pygments_lexer": "ipython3",
   "version": "3.9.6"
  }
 },
 "nbformat": 4,
 "nbformat_minor": 2
}